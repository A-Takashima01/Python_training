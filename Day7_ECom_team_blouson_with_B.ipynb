{
 "cells": [
  {
   "cell_type": "code",
   "execution_count": 2,
   "metadata": {},
   "outputs": [],
   "source": [
    "# from tabulate import tabulate\n",
    "\n",
    "# shop = [\n",
    "#     {\"name\": \"Apple\", \"quantity\": 30, \"price\": 0.50},  # 15\n",
    "#     {\"name\": \"Banana\", \"quantity\": 20, \"price\": 0.20},  # 4\n",
    "# ]\n",
    "\n",
    "# print(tabulate(shop))\n",
    "# print(tabulate(shop, headers=\"keys\"))\n",
    "# print(tabulate(shop, headers=\"keys\", tablefmt=\"pretty\"))"
   ]
  },
  {
   "cell_type": "code",
   "execution_count": 4,
   "metadata": {},
   "outputs": [],
   "source": [
    "# 1. User Data Structure\n",
    "users = [\n",
    "    {\n",
    "        \"id\": 1,\n",
    "        \"username\": \"admin\",\n",
    "        \"password\": \"admin123\",\n",
    "        \"role\": \"admin\"\n",
    "    },\n",
    "    {\n",
    "        \"id\": 2,\n",
    "        \"username\": \"john\",\n",
    "        \"password\": \"john123\",\n",
    "        \"role\": \"customer\"\n",
    "    }\n",
    "]\n"
   ]
  },
  {
   "cell_type": "code",
   "execution_count": 6,
   "metadata": {},
   "outputs": [],
   "source": [
    "# 2. Products Data Structure\n",
    "products = [\n",
    "    {\n",
    "        \"id\": 1,\n",
    "        \"name\": \"Laptop\",\n",
    "        \"price\": 999.99,\n",
    "        \"stock\": 10\n",
    "    },\n",
    "    {\n",
    "        \"id\": 2,\n",
    "        \"name\": \"Smartphone\",\n",
    "        \"price\": 499.99,\n",
    "        \"stock\": 15\n",
    "    }\n",
    "]"
   ]
  },
  {
   "cell_type": "code",
   "execution_count": 8,
   "metadata": {},
   "outputs": [],
   "source": [
    "# 3. Cart Data Structure\n",
    "cart = [\n",
    "    {\n",
    "        \"user_id\": 2,\n",
    "        \"product_id\": 1,\n",
    "        \"quantity\": 2\n",
    "    }\n",
    "]"
   ]
  },
  {
   "cell_type": "code",
   "execution_count": 10,
   "metadata": {},
   "outputs": [],
   "source": [
    "# 4. Orders Data Structure\n",
    "orders = [\n",
    "    {\n",
    "        \"id\": 1,\n",
    "        \"user_id\": 2,\n",
    "        \"items\": [\n",
    "            {\n",
    "                \"product_id\": 1,\n",
    "                \"quantity\": 2\n",
    "            }\n",
    "        ],\n",
    "        \"date\": \"2024-11-12 10:30:45\",\n",
    "        \"total\": 1999.98\n",
    "    }\n",
    "]"
   ]
  },
  {
   "cell_type": "code",
   "execution_count": null,
   "metadata": {},
   "outputs": [],
   "source": [
    "def admin_manage_prd(products):\n",
    "    prd_id = input(f\"Product ID: \")\n",
    "    prd_name = input(f\"Product name: \")\n",
    "    prd_price = float(input(f\"Product price:\"))\n",
    "    prd_stock = int(input(f\"No. of stocks: \"))\n",
    "    new_prd = {\n",
    "        \"id\": prd_id,\n",
    "        \"name\": prd_name,\n",
    "        \"price\": prd_price,\n",
    "        \"stock\": prd_stock\n",
    "    }\n",
    "    products.append(new_prd)\n",
    "    print(f\"Added {prd_name} to the products list.\")\n",
    "    return products\n",
    "\n",
    "admin_manage_prd(products)"
   ]
  },
  {
   "cell_type": "code",
   "execution_count": 17,
   "metadata": {},
   "outputs": [],
   "source": [
    "def admin_menu():\n",
    "    while True:\n",
    "        user_choice = int(input(\n",
    "            \"\"\"Welcome, admin!\n",
    "            \n",
    "            1. Manage Products\n",
    "            2. View All Products\n",
    "            3. Logout\n",
    "\n",
    "            Enter your choice:\"\"\"\n",
    "        ))\n",
    "        if (user_choice == 1):\n",
    "            print(\"1. Manage Products\")\n",
    "            admin_manage_prd(products)\n",
    "        elif (user_choice == 2):\n",
    "            print(\"2. View All Products\")\n",
    "            print(products)\n",
    "        elif(user_choice == 3):\n",
    "            break\n",
    "        else:\n",
    "            print(\"Please choose from 1-3.\")\n"
   ]
  }
 ],
 "metadata": {
  "kernelspec": {
   "display_name": "myenv",
   "language": "python",
   "name": "python3"
  },
  "language_info": {
   "codemirror_mode": {
    "name": "ipython",
    "version": 3
   },
   "file_extension": ".py",
   "mimetype": "text/x-python",
   "name": "python",
   "nbconvert_exporter": "python",
   "pygments_lexer": "ipython3",
   "version": "3.10.11"
  }
 },
 "nbformat": 4,
 "nbformat_minor": 2
}

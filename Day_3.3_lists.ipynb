{
 "cells": [
  {
   "cell_type": "markdown",
   "metadata": {},
   "source": [
    "# List\n",
    "\n",
    "```py\n",
    "mark1 = 80\n",
    "mark2 = 90\n",
    "mark3 = 100\n",
    "```\n",
    "\n",
    "- Hold multiple values\n",
    "- Index access values\n",
    "\n",
    "# CRUD\n",
    "- Create ✅  - `marks = [80, 90, 100, 60, 85]`\n",
    "- Read   ✅  - `index` & `slice (:)`\n",
    "- Update ✅  - `append` &  `insert` \n",
    "- Delete ✅  - `remove` & `pop`\n"
   ]
  },
  {
   "cell_type": "code",
   "execution_count": null,
   "metadata": {},
   "outputs": [],
   "source": [
    "marks = [80, 90, 100, 60, 85]\n",
    "print(marks)"
   ]
  },
  {
   "cell_type": "code",
   "execution_count": null,
   "metadata": {},
   "outputs": [],
   "source": [
    "print(marks[1])\n",
    "print(marks[-1])"
   ]
  },
  {
   "cell_type": "markdown",
   "metadata": {},
   "source": [
    "### Slice operator"
   ]
  },
  {
   "cell_type": "code",
   "execution_count": null,
   "metadata": {},
   "outputs": [],
   "source": [
    "marks = [80, 90, 100, 60, 85]\n",
    "print(marks[2:])\n",
    "print(marks[::-1])"
   ]
  },
  {
   "cell_type": "markdown",
   "metadata": {},
   "source": [
    "## List Methods\n",
    "- `append()` - at the end\n",
    "- `insert()` -"
   ]
  },
  {
   "cell_type": "code",
   "execution_count": 82,
   "metadata": {},
   "outputs": [
    {
     "name": "stdout",
     "output_type": "stream",
     "text": [
      "[80, 90, 100, 60, 85]\n",
      "[80, 90, 100, 60, 85, 55]\n"
     ]
    }
   ],
   "source": [
    "marks = [80, 90, 100, 60, 85]\n",
    "print(marks)\n",
    "marks.append(55)\n",
    "print(marks)"
   ]
  },
  {
   "cell_type": "code",
   "execution_count": null,
   "metadata": {},
   "outputs": [],
   "source": [
    "# len works for both lists and strings\n",
    "len(marks)"
   ]
  },
  {
   "cell_type": "code",
   "execution_count": null,
   "metadata": {},
   "outputs": [],
   "source": [
    "type(marks)"
   ]
  },
  {
   "cell_type": "code",
   "execution_count": null,
   "metadata": {},
   "outputs": [],
   "source": [
    "characters = ['Frieren', 'Gohan', 'Goku', 'Itachi', 'Gon', 'Pikachu', 'Itadori']"
   ]
  },
  {
   "cell_type": "code",
   "execution_count": null,
   "metadata": {},
   "outputs": [],
   "source": [
    "# insert - add in middle\n",
    "characters.insert(2, 'Zoro')\n",
    "print(characters)"
   ]
  },
  {
   "cell_type": "code",
   "execution_count": null,
   "metadata": {},
   "outputs": [],
   "source": []
  },
  {
   "cell_type": "markdown",
   "metadata": {},
   "source": [
    "## Remove items\n",
    "- `pop`  - index\n",
    "- `remove` - "
   ]
  },
  {
   "cell_type": "code",
   "execution_count": null,
   "metadata": {},
   "outputs": [],
   "source": [
    "characters.pop(4)"
   ]
  },
  {
   "cell_type": "code",
   "execution_count": 73,
   "metadata": {},
   "outputs": [
    {
     "name": "stdout",
     "output_type": "stream",
     "text": [
      "0 80\n",
      "1 90\n",
      "2 100\n",
      "3 60\n",
      "4 85\n"
     ]
    }
   ],
   "source": [
    "# Task: What would come in `range(_)` in general?\\\n",
    "# Clue: len\n",
    "\n",
    "marks = [80, 90, 100, 60, 85]\n",
    "\n",
    "for i in range(len(marks)):\n",
    "    print(i, marks[i])"
   ]
  },
  {
   "cell_type": "code",
   "execution_count": 78,
   "metadata": {},
   "outputs": [
    {
     "name": "stdout",
     "output_type": "stream",
     "text": [
      "[160, 180, 200, 120, 170]\n"
     ]
    }
   ],
   "source": [
    "# Task: Double all the numbers\n",
    "marks = [80, 90, 100, 60, 85]\n",
    "# marks[1] = 75\n",
    "for i in range(len(marks)):\n",
    "    marks[i] = marks[i] * 2\n",
    "print(marks)\n",
    "\n",
    "# Output\n",
    "# [160, 180, 200, 120, 170]"
   ]
  },
  {
   "cell_type": "code",
   "execution_count": 4,
   "metadata": {},
   "outputs": [
    {
     "name": "stdout",
     "output_type": "stream",
     "text": [
      "[4000, 6000, 8000, 3000]\n",
      "[2000, 3000, 4000, 1500]\n"
     ]
    }
   ],
   "source": [
    "# Task: Double the power\n",
    "powers = [2000, 3000, 4000, 1500]\n",
    "doubled_powers = []\n",
    "\n",
    "for i in range(len(powers)):\n",
    "    doubled_powers.append(powers[i]*2)\n",
    "print(doubled_powers)\n",
    "print(powers)\n",
    "# Output\n",
    "# doubled_powers -> [4000, 6000, 8000, 3000]\n",
    "# powers -> [2000, 3000, 4000, 1500]"
   ]
  },
  {
   "cell_type": "markdown",
   "metadata": {},
   "source": [
    "## Task 2.1\n",
    "Find longer names (>= 6 letter)\n",
    "\n",
    "`characters = ['Hello kitty', 'Goku', 'Pikachu', 'Luffy', 'Yuji Itadori', \"Levi\"]`\n",
    "\n",
    "Expected Output\n",
    "`['Hello kitty', 'Pikachu', 'Yuji Itadori']`"
   ]
  },
  {
   "cell_type": "code",
   "execution_count": 6,
   "metadata": {},
   "outputs": [
    {
     "name": "stdout",
     "output_type": "stream",
     "text": [
      "['Hello kitty', 'Pikachu', 'Yuji Itadori']\n"
     ]
    }
   ],
   "source": [
    "characters = ['Hello kitty', 'Goku', 'Pikachu', 'Luffy', 'Yuji Itadori', \"Levi\"]\n",
    "longer_names = []\n",
    "\n",
    "for i in range(len(characters)):\n",
    "    if len(characters[i])>=6:\n",
    "        longer_names.append(characters[i])\n",
    "\n",
    "print(longer_names)\n"
   ]
  },
  {
   "cell_type": "markdown",
   "metadata": {},
   "source": [
    "## Task 2.2\n",
    "\n",
    "Calculate the total of shopping_items & apply tax of 10%\n",
    "\n",
    "```py\n",
    "shopping_items = [1000, 5000,  4000, 2000, 3000]\n",
    "```\n",
    "\n",
    "Expected Output\n",
    "\n",
    "```\n",
    "Your totals is 15,000\n",
    "Tax is 10%      1,500 \n",
    "Your grand total is 16,500\n",
    "```"
   ]
  },
  {
   "cell_type": "code",
   "execution_count": null,
   "metadata": {},
   "outputs": [],
   "source": [
    "shopping_items = [1000, 5000,  4000, 2000, 3000]\n",
    "\n",
    "for i in range (len(shopping_items)):\n",
    "    "
   ]
  }
 ],
 "metadata": {
  "kernelspec": {
   "display_name": "Python 3",
   "language": "python",
   "name": "python3"
  },
  "language_info": {
   "codemirror_mode": {
    "name": "ipython",
    "version": 3
   },
   "file_extension": ".py",
   "mimetype": "text/x-python",
   "name": "python",
   "nbconvert_exporter": "python",
   "pygments_lexer": "ipython3",
   "version": "3.10.11"
  }
 },
 "nbformat": 4,
 "nbformat_minor": 2
}

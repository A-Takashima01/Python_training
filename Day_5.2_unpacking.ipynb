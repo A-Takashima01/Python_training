{
 "cells": [
  {
   "cell_type": "markdown",
   "metadata": {},
   "source": [
    "# Multiple variable assignment"
   ]
  },
  {
   "cell_type": "code",
   "execution_count": 1,
   "metadata": {},
   "outputs": [
    {
     "name": "stdout",
     "output_type": "stream",
     "text": [
      "0 0 0\n"
     ]
    }
   ],
   "source": [
    "a = 0\n",
    "b = 0\n",
    "c = 0\n",
    "\n",
    "print(a, b, c)"
   ]
  },
  {
   "cell_type": "code",
   "execution_count": null,
   "metadata": {},
   "outputs": [
    {
     "name": "stdout",
     "output_type": "stream",
     "text": [
      "10 10 10\n"
     ]
    }
   ],
   "source": [
    "# All the same values\n",
    "a = b = c = 10 # Multiple variable assignment\n",
    "print(a, b, c)"
   ]
  },
  {
   "cell_type": "code",
   "execution_count": null,
   "metadata": {},
   "outputs": [
    {
     "name": "stdout",
     "output_type": "stream",
     "text": [
      "10 50 80\n"
     ]
    }
   ],
   "source": [
    "# Unpacking\n",
    "a, b, c = 10, 50, 80\n",
    "print(a, b, c)"
   ]
  },
  {
   "cell_type": "code",
   "execution_count": 5,
   "metadata": {},
   "outputs": [
    {
     "name": "stdout",
     "output_type": "stream",
     "text": [
      "10 50 80\n"
     ]
    }
   ],
   "source": [
    "# Unpacking\n",
    "a, b, c = (10, 50, 80)\n",
    "print(a, b, c)"
   ]
  },
  {
   "cell_type": "code",
   "execution_count": 7,
   "metadata": {},
   "outputs": [
    {
     "name": "stdout",
     "output_type": "stream",
     "text": [
      "60 80 100\n"
     ]
    }
   ],
   "source": [
    "# Skip?\n",
    "\n",
    "t1, t2, _, t3 = (60, 80, 90, 100)\n",
    "\n",
    "print(t1, t2, t3)"
   ]
  },
  {
   "cell_type": "code",
   "execution_count": 9,
   "metadata": {},
   "outputs": [
    {
     "name": "stdout",
     "output_type": "stream",
     "text": [
      "🦸‍♂️ Batman 🦸‍♂️ Superman\n"
     ]
    }
   ],
   "source": [
    "# Unpack only Batman & Superman\n",
    "[\"🦸‍♂️ Batman\", \"🦸‍♂️ Superman\", \"🦹‍♂️ Joker\", \"🦹‍♀️ Harley Quinn\"]\n",
    "a, b, _, _ = (\"🦸‍♂️ Batman\", \"🦸‍♂️ Superman\", \"🦹‍♂️ Joker\", \"🦹‍♀️ Harley Quinn\")\n",
    "\n",
    "print(a, b)\n",
    "\n"
   ]
  },
  {
   "cell_type": "code",
   "execution_count": 13,
   "metadata": {},
   "outputs": [
    {
     "name": "stdout",
     "output_type": "stream",
     "text": [
      "🦸‍♂️ Batman 🦸‍♂️ Superman\n"
     ]
    }
   ],
   "source": [
    "super_heroes = [\"🦸‍♂️ Batman\", \"🦸‍♂️ Superman\", \"🦹‍♂️ Joker\", \"🦹‍♀️ Harley Quinn\"]\n",
    "\n",
    "# Unpacking\n",
    "a, b, _, _ = super_heroes\n",
    "print(a, b)"
   ]
  },
  {
   "cell_type": "markdown",
   "metadata": {},
   "source": [
    "### Task 1.1 (Without Unpacking)\n",
    "\n",
    "points = [(3, 4), (6, 12), (10, 13)]\n",
    "\n",
    "Expected Output\n",
    "distances = [5, ...]"
   ]
  },
  {
   "cell_type": "code",
   "execution_count": null,
   "metadata": {},
   "outputs": [
    {
     "name": "stdout",
     "output_type": "stream",
     "text": [
      "[5.0, 13.42, 16.4]\n"
     ]
    }
   ],
   "source": [
    "points = [(3, 4), (6, 12), (10, 13)]\n",
    "distances = []\n",
    "# Formula (a, b)\n",
    "for point in points:\n",
    "    distances.append(round(((point[0]**2 + point[1]**2)**0.5), 2))\n",
    "print(distances)"
   ]
  },
  {
   "cell_type": "code",
   "execution_count": 29,
   "metadata": {},
   "outputs": [
    {
     "name": "stdout",
     "output_type": "stream",
     "text": [
      "[5.0, 13.42, 16.4]\n"
     ]
    }
   ],
   "source": [
    "# Using List comp\n",
    "points = [(3, 4), (6, 12), (10, 13)]\n",
    "distances = [round(((point[0]**2 + point[1]**2)**0.5), 2) for point in points ]\n",
    "print(distances)\n",
    "# Formula (a, b)\n"
   ]
  },
  {
   "cell_type": "markdown",
   "metadata": {},
   "source": [
    "### Task 2.2 (With Unpacking)\n",
    "points = [(3, 4), (6, 12), (10, 13)]\n",
    "\n",
    "Expected Output\n",
    "distances = [5, ...]\n"
   ]
  },
  {
   "cell_type": "code",
   "execution_count": 31,
   "metadata": {},
   "outputs": [
    {
     "name": "stdout",
     "output_type": "stream",
     "text": [
      "[5.0, 13.42, 16.4]\n"
     ]
    }
   ],
   "source": [
    "points = [(3, 4), (6, 12), (10, 13)]\n",
    "distances = []\n",
    "# Formula (a, b)\n",
    "for point in points:\n",
    "    x, y = point\n",
    "    z = (x**2 + y**2)**0.5\n",
    "    distances.append(round(z, 2))\n",
    "print(distances)"
   ]
  },
  {
   "cell_type": "code",
   "execution_count": null,
   "metadata": {},
   "outputs": [
    {
     "name": "stdout",
     "output_type": "stream",
     "text": [
      "[5.0, 13.42, 16.4]\n"
     ]
    }
   ],
   "source": [
    "points = [(3, 4), (6, 12), (10, 13)]\n",
    "distances = [round(((x**2 + y**2)**0.5), 2) for x, y in points] # Pythonic way\n",
    "print(distances)"
   ]
  },
  {
   "cell_type": "markdown",
   "metadata": {},
   "source": []
  }
 ],
 "metadata": {
  "kernelspec": {
   "display_name": "Python 3",
   "language": "python",
   "name": "python3"
  },
  "language_info": {
   "codemirror_mode": {
    "name": "ipython",
    "version": 3
   },
   "file_extension": ".py",
   "mimetype": "text/x-python",
   "name": "python",
   "nbconvert_exporter": "python",
   "pygments_lexer": "ipython3",
   "version": "3.10.11"
  }
 },
 "nbformat": 4,
 "nbformat_minor": 2
}
